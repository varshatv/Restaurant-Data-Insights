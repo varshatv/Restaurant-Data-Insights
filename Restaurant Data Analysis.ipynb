{
 "cells": [
  {
   "cell_type": "code",
   "execution_count": 14,
   "id": "1e7edf68-6242-4d82-8402-0cb8c4ce35b3",
   "metadata": {},
   "outputs": [],
   "source": [
    "import numpy as np\n",
    "import pandas as pd\n",
    "import matplotlib.pyplot as plt\n",
    "import seaborn as sns"
   ]
  },
  {
   "cell_type": "code",
   "execution_count": 3,
   "id": "1a25cfa4-39f5-4cf7-929b-2d2dbc16fd2d",
   "metadata": {},
   "outputs": [],
   "source": [
    "df=pd.read_csv('Dataset .csv')"
   ]
  },
  {
   "cell_type": "code",
   "execution_count": 15,
   "id": "869a2c10-c724-4048-9889-c401a3bd4539",
   "metadata": {},
   "outputs": [
    {
     "name": "stdout",
     "output_type": "stream",
     "text": [
      "<class 'pandas.core.frame.DataFrame'>\n",
      "RangeIndex: 9551 entries, 0 to 9550\n",
      "Data columns (total 21 columns):\n",
      " #   Column                Non-Null Count  Dtype  \n",
      "---  ------                --------------  -----  \n",
      " 0   Restaurant ID         9551 non-null   int64  \n",
      " 1   Restaurant Name       9551 non-null   object \n",
      " 2   Country Code          9551 non-null   int64  \n",
      " 3   City                  9551 non-null   object \n",
      " 4   Address               9551 non-null   object \n",
      " 5   Locality              9551 non-null   object \n",
      " 6   Locality Verbose      9551 non-null   object \n",
      " 7   Longitude             9551 non-null   float64\n",
      " 8   Latitude              9551 non-null   float64\n",
      " 9   Cuisines              9542 non-null   object \n",
      " 10  Average Cost for two  9551 non-null   int64  \n",
      " 11  Currency              9551 non-null   object \n",
      " 12  Has Table booking     9551 non-null   object \n",
      " 13  Has Online delivery   9551 non-null   object \n",
      " 14  Is delivering now     9551 non-null   object \n",
      " 15  Switch to order menu  9551 non-null   object \n",
      " 16  Price range           9551 non-null   int64  \n",
      " 17  Aggregate rating      9551 non-null   float64\n",
      " 18  Rating color          9551 non-null   object \n",
      " 19  Rating text           9551 non-null   object \n",
      " 20  Votes                 9551 non-null   int64  \n",
      "dtypes: float64(3), int64(5), object(13)\n",
      "memory usage: 1.5+ MB\n"
     ]
    }
   ],
   "source": [
    "df.info()"
   ]
  },
  {
   "cell_type": "code",
   "execution_count": 38,
   "id": "652fcbe7-5f8b-473a-905e-a9018f6bda91",
   "metadata": {},
   "outputs": [
    {
     "data": {
      "text/html": [
       "<div>\n",
       "<style scoped>\n",
       "    .dataframe tbody tr th:only-of-type {\n",
       "        vertical-align: middle;\n",
       "    }\n",
       "\n",
       "    .dataframe tbody tr th {\n",
       "        vertical-align: top;\n",
       "    }\n",
       "\n",
       "    .dataframe thead th {\n",
       "        text-align: right;\n",
       "    }\n",
       "</style>\n",
       "<table border=\"1\" class=\"dataframe\">\n",
       "  <thead>\n",
       "    <tr style=\"text-align: right;\">\n",
       "      <th></th>\n",
       "      <th>Restaurant ID</th>\n",
       "      <th>Restaurant Name</th>\n",
       "      <th>Country Code</th>\n",
       "      <th>City</th>\n",
       "      <th>Address</th>\n",
       "      <th>Locality</th>\n",
       "      <th>Locality Verbose</th>\n",
       "      <th>Longitude</th>\n",
       "      <th>Latitude</th>\n",
       "      <th>Cuisines</th>\n",
       "      <th>...</th>\n",
       "      <th>Currency</th>\n",
       "      <th>Has Table booking</th>\n",
       "      <th>Has Online delivery</th>\n",
       "      <th>Is delivering now</th>\n",
       "      <th>Switch to order menu</th>\n",
       "      <th>Price range</th>\n",
       "      <th>Aggregate rating</th>\n",
       "      <th>Rating color</th>\n",
       "      <th>Rating text</th>\n",
       "      <th>Votes</th>\n",
       "    </tr>\n",
       "  </thead>\n",
       "  <tbody>\n",
       "    <tr>\n",
       "      <th>0</th>\n",
       "      <td>6317637</td>\n",
       "      <td>Le Petit Souffle</td>\n",
       "      <td>162</td>\n",
       "      <td>Makati City</td>\n",
       "      <td>Third Floor, Century City Mall, Kalayaan Avenu...</td>\n",
       "      <td>Century City Mall, Poblacion, Makati City</td>\n",
       "      <td>Century City Mall, Poblacion, Makati City, Mak...</td>\n",
       "      <td>121.027535</td>\n",
       "      <td>14.565443</td>\n",
       "      <td>French, Japanese, Desserts</td>\n",
       "      <td>...</td>\n",
       "      <td>Botswana Pula(P)</td>\n",
       "      <td>Yes</td>\n",
       "      <td>No</td>\n",
       "      <td>No</td>\n",
       "      <td>No</td>\n",
       "      <td>3</td>\n",
       "      <td>4.8</td>\n",
       "      <td>Dark Green</td>\n",
       "      <td>Excellent</td>\n",
       "      <td>314</td>\n",
       "    </tr>\n",
       "    <tr>\n",
       "      <th>1</th>\n",
       "      <td>6304287</td>\n",
       "      <td>Izakaya Kikufuji</td>\n",
       "      <td>162</td>\n",
       "      <td>Makati City</td>\n",
       "      <td>Little Tokyo, 2277 Chino Roces Avenue, Legaspi...</td>\n",
       "      <td>Little Tokyo, Legaspi Village, Makati City</td>\n",
       "      <td>Little Tokyo, Legaspi Village, Makati City, Ma...</td>\n",
       "      <td>121.014101</td>\n",
       "      <td>14.553708</td>\n",
       "      <td>Japanese</td>\n",
       "      <td>...</td>\n",
       "      <td>Botswana Pula(P)</td>\n",
       "      <td>Yes</td>\n",
       "      <td>No</td>\n",
       "      <td>No</td>\n",
       "      <td>No</td>\n",
       "      <td>3</td>\n",
       "      <td>4.5</td>\n",
       "      <td>Dark Green</td>\n",
       "      <td>Excellent</td>\n",
       "      <td>591</td>\n",
       "    </tr>\n",
       "    <tr>\n",
       "      <th>2</th>\n",
       "      <td>6300002</td>\n",
       "      <td>Heat - Edsa Shangri-La</td>\n",
       "      <td>162</td>\n",
       "      <td>Mandaluyong City</td>\n",
       "      <td>Edsa Shangri-La, 1 Garden Way, Ortigas, Mandal...</td>\n",
       "      <td>Edsa Shangri-La, Ortigas, Mandaluyong City</td>\n",
       "      <td>Edsa Shangri-La, Ortigas, Mandaluyong City, Ma...</td>\n",
       "      <td>121.056831</td>\n",
       "      <td>14.581404</td>\n",
       "      <td>Seafood, Asian, Filipino, Indian</td>\n",
       "      <td>...</td>\n",
       "      <td>Botswana Pula(P)</td>\n",
       "      <td>Yes</td>\n",
       "      <td>No</td>\n",
       "      <td>No</td>\n",
       "      <td>No</td>\n",
       "      <td>4</td>\n",
       "      <td>4.4</td>\n",
       "      <td>Green</td>\n",
       "      <td>Very Good</td>\n",
       "      <td>270</td>\n",
       "    </tr>\n",
       "    <tr>\n",
       "      <th>3</th>\n",
       "      <td>6318506</td>\n",
       "      <td>Ooma</td>\n",
       "      <td>162</td>\n",
       "      <td>Mandaluyong City</td>\n",
       "      <td>Third Floor, Mega Fashion Hall, SM Megamall, O...</td>\n",
       "      <td>SM Megamall, Ortigas, Mandaluyong City</td>\n",
       "      <td>SM Megamall, Ortigas, Mandaluyong City, Mandal...</td>\n",
       "      <td>121.056475</td>\n",
       "      <td>14.585318</td>\n",
       "      <td>Japanese, Sushi</td>\n",
       "      <td>...</td>\n",
       "      <td>Botswana Pula(P)</td>\n",
       "      <td>No</td>\n",
       "      <td>No</td>\n",
       "      <td>No</td>\n",
       "      <td>No</td>\n",
       "      <td>4</td>\n",
       "      <td>4.9</td>\n",
       "      <td>Dark Green</td>\n",
       "      <td>Excellent</td>\n",
       "      <td>365</td>\n",
       "    </tr>\n",
       "    <tr>\n",
       "      <th>4</th>\n",
       "      <td>6314302</td>\n",
       "      <td>Sambo Kojin</td>\n",
       "      <td>162</td>\n",
       "      <td>Mandaluyong City</td>\n",
       "      <td>Third Floor, Mega Atrium, SM Megamall, Ortigas...</td>\n",
       "      <td>SM Megamall, Ortigas, Mandaluyong City</td>\n",
       "      <td>SM Megamall, Ortigas, Mandaluyong City, Mandal...</td>\n",
       "      <td>121.057508</td>\n",
       "      <td>14.584450</td>\n",
       "      <td>Japanese, Korean</td>\n",
       "      <td>...</td>\n",
       "      <td>Botswana Pula(P)</td>\n",
       "      <td>Yes</td>\n",
       "      <td>No</td>\n",
       "      <td>No</td>\n",
       "      <td>No</td>\n",
       "      <td>4</td>\n",
       "      <td>4.8</td>\n",
       "      <td>Dark Green</td>\n",
       "      <td>Excellent</td>\n",
       "      <td>229</td>\n",
       "    </tr>\n",
       "  </tbody>\n",
       "</table>\n",
       "<p>5 rows × 21 columns</p>\n",
       "</div>"
      ],
      "text/plain": [
       "   Restaurant ID         Restaurant Name  Country Code              City  \\\n",
       "0        6317637        Le Petit Souffle           162       Makati City   \n",
       "1        6304287        Izakaya Kikufuji           162       Makati City   \n",
       "2        6300002  Heat - Edsa Shangri-La           162  Mandaluyong City   \n",
       "3        6318506                    Ooma           162  Mandaluyong City   \n",
       "4        6314302             Sambo Kojin           162  Mandaluyong City   \n",
       "\n",
       "                                             Address  \\\n",
       "0  Third Floor, Century City Mall, Kalayaan Avenu...   \n",
       "1  Little Tokyo, 2277 Chino Roces Avenue, Legaspi...   \n",
       "2  Edsa Shangri-La, 1 Garden Way, Ortigas, Mandal...   \n",
       "3  Third Floor, Mega Fashion Hall, SM Megamall, O...   \n",
       "4  Third Floor, Mega Atrium, SM Megamall, Ortigas...   \n",
       "\n",
       "                                     Locality  \\\n",
       "0   Century City Mall, Poblacion, Makati City   \n",
       "1  Little Tokyo, Legaspi Village, Makati City   \n",
       "2  Edsa Shangri-La, Ortigas, Mandaluyong City   \n",
       "3      SM Megamall, Ortigas, Mandaluyong City   \n",
       "4      SM Megamall, Ortigas, Mandaluyong City   \n",
       "\n",
       "                                    Locality Verbose   Longitude   Latitude  \\\n",
       "0  Century City Mall, Poblacion, Makati City, Mak...  121.027535  14.565443   \n",
       "1  Little Tokyo, Legaspi Village, Makati City, Ma...  121.014101  14.553708   \n",
       "2  Edsa Shangri-La, Ortigas, Mandaluyong City, Ma...  121.056831  14.581404   \n",
       "3  SM Megamall, Ortigas, Mandaluyong City, Mandal...  121.056475  14.585318   \n",
       "4  SM Megamall, Ortigas, Mandaluyong City, Mandal...  121.057508  14.584450   \n",
       "\n",
       "                           Cuisines  ...          Currency Has Table booking  \\\n",
       "0        French, Japanese, Desserts  ...  Botswana Pula(P)               Yes   \n",
       "1                          Japanese  ...  Botswana Pula(P)               Yes   \n",
       "2  Seafood, Asian, Filipino, Indian  ...  Botswana Pula(P)               Yes   \n",
       "3                   Japanese, Sushi  ...  Botswana Pula(P)                No   \n",
       "4                  Japanese, Korean  ...  Botswana Pula(P)               Yes   \n",
       "\n",
       "  Has Online delivery Is delivering now Switch to order menu Price range  \\\n",
       "0                  No                No                   No           3   \n",
       "1                  No                No                   No           3   \n",
       "2                  No                No                   No           4   \n",
       "3                  No                No                   No           4   \n",
       "4                  No                No                   No           4   \n",
       "\n",
       "   Aggregate rating  Rating color Rating text Votes  \n",
       "0               4.8    Dark Green   Excellent   314  \n",
       "1               4.5    Dark Green   Excellent   591  \n",
       "2               4.4         Green   Very Good   270  \n",
       "3               4.9    Dark Green   Excellent   365  \n",
       "4               4.8    Dark Green   Excellent   229  \n",
       "\n",
       "[5 rows x 21 columns]"
      ]
     },
     "execution_count": 38,
     "metadata": {},
     "output_type": "execute_result"
    }
   ],
   "source": [
    "df.head()"
   ]
  },
  {
   "cell_type": "code",
   "execution_count": 12,
   "id": "91536769-c4ca-4229-bf0e-63442aa97807",
   "metadata": {},
   "outputs": [],
   "source": [
    "#city analysis\n",
    "\n",
    "y=df[\"City\"]"
   ]
  },
  {
   "cell_type": "code",
   "execution_count": 5,
   "id": "72f5dadc-65b9-4f95-b13e-c5c0eb71d404",
   "metadata": {},
   "outputs": [
    {
     "data": {
      "text/plain": [
       "0            Makati City\n",
       "1            Makati City\n",
       "2       Mandaluyong City\n",
       "3       Mandaluyong City\n",
       "4       Mandaluyong City\n",
       "              ...       \n",
       "9546           ��stanbul\n",
       "9547           ��stanbul\n",
       "9548           ��stanbul\n",
       "9549           ��stanbul\n",
       "9550           ��stanbul\n",
       "Name: City, Length: 9551, dtype: object"
      ]
     },
     "execution_count": 5,
     "metadata": {},
     "output_type": "execute_result"
    }
   ],
   "source": [
    "y"
   ]
  },
  {
   "cell_type": "code",
   "execution_count": 6,
   "id": "6f4b60b0-68ba-4e83-91b7-7961267cdcca",
   "metadata": {},
   "outputs": [],
   "source": [
    "city_counts=df.groupby(\"City\")[\"Restaurant ID\"].nunique()"
   ]
  },
  {
   "cell_type": "code",
   "execution_count": 7,
   "id": "59a95f70-29b4-4180-a26c-cbace5dbf409",
   "metadata": {},
   "outputs": [
    {
     "name": "stdout",
     "output_type": "stream",
     "text": [
      "City\n",
      "Abu Dhabi          20\n",
      "Agra               20\n",
      "Ahmedabad          21\n",
      "Albany             20\n",
      "Allahabad          20\n",
      "                   ..\n",
      "Weirton             1\n",
      "Wellington City    20\n",
      "Winchester Bay      1\n",
      "Yorkton             1\n",
      "��stanbul          14\n",
      "Name: Restaurant ID, Length: 141, dtype: int64\n"
     ]
    }
   ],
   "source": [
    "print(city_counts)"
   ]
  },
  {
   "cell_type": "code",
   "execution_count": 8,
   "id": "7a0fa52a-5413-400f-b6d6-481249ce270f",
   "metadata": {},
   "outputs": [],
   "source": [
    "top_city=city_counts.sort_values(ascending=False).head()"
   ]
  },
  {
   "cell_type": "code",
   "execution_count": 9,
   "id": "0f1715a5-0c40-4de6-a668-853581fb34d3",
   "metadata": {},
   "outputs": [
    {
     "name": "stdout",
     "output_type": "stream",
     "text": [
      "City\n",
      "New Delhi    5473\n",
      "Gurgaon      1118\n",
      "Noida        1080\n",
      "Faridabad     251\n",
      "Ghaziabad      25\n",
      "Name: Restaurant ID, dtype: int64\n"
     ]
    }
   ],
   "source": [
    "print(top_city)"
   ]
  },
  {
   "cell_type": "code",
   "execution_count": 10,
   "id": "c3f59174-6cbd-4e5f-8d70-35cf651544d0",
   "metadata": {},
   "outputs": [],
   "source": [
    "average_rating=df.groupby(\"City\")[\"Votes\"].mean()"
   ]
  },
  {
   "cell_type": "code",
   "execution_count": 11,
   "id": "8db21031-281a-4de5-a6e7-aef62bbb5795",
   "metadata": {},
   "outputs": [
    {
     "name": "stdout",
     "output_type": "stream",
     "text": [
      "City\n",
      "Abu Dhabi          302.250000\n",
      "Agra               103.100000\n",
      "Ahmedabad          584.095238\n",
      "Albany              83.800000\n",
      "Allahabad           69.600000\n",
      "                      ...    \n",
      "Weirton            156.000000\n",
      "Wellington City    146.300000\n",
      "Winchester Bay      16.000000\n",
      "Yorkton             26.000000\n",
      "��stanbul          860.214286\n",
      "Name: Votes, Length: 141, dtype: float64\n"
     ]
    }
   ],
   "source": [
    "print(average_rating)"
   ]
  },
  {
   "cell_type": "code",
   "execution_count": 13,
   "id": "23175ff5-288b-4b45-bd8f-316294fb5209",
   "metadata": {},
   "outputs": [],
   "source": [
    "#cuisisne combinations"
   ]
  },
  {
   "cell_type": "code",
   "execution_count": 16,
   "id": "48e39bfc-b117-4e23-a55e-9caf24b8bcd5",
   "metadata": {},
   "outputs": [],
   "source": [
    "common_cuisines=df[\"Cuisines\"].value_counts()"
   ]
  },
  {
   "cell_type": "code",
   "execution_count": 17,
   "id": "18c8583a-0ade-433f-921f-1981d9fb2b86",
   "metadata": {},
   "outputs": [
    {
     "data": {
      "text/plain": [
       "Cuisines\n",
       "North Indian                                             936\n",
       "North Indian, Chinese                                    511\n",
       "Chinese                                                  354\n",
       "Fast Food                                                354\n",
       "North Indian, Mughlai                                    334\n",
       "                                                        ... \n",
       "Bengali, Fast Food                                         1\n",
       "North Indian, Rajasthani, Asian                            1\n",
       "Chinese, Thai, Malaysian, Indonesian                       1\n",
       "Bakery, Desserts, North Indian, Bengali, South Indian      1\n",
       "Italian, World Cuisine                                     1\n",
       "Name: count, Length: 1825, dtype: int64"
      ]
     },
     "execution_count": 17,
     "metadata": {},
     "output_type": "execute_result"
    }
   ],
   "source": [
    "common_cuisines"
   ]
  },
  {
   "cell_type": "code",
   "execution_count": 18,
   "id": "b7bf7114-265e-427b-acd8-b973d5562340",
   "metadata": {},
   "outputs": [],
   "source": [
    "average_rating=df.groupby(\"Cuisines\")[\"Aggregate rating\"].mean().sort_values(ascending=False)"
   ]
  },
  {
   "cell_type": "code",
   "execution_count": 19,
   "id": "92689d76-6bbe-445d-b6b6-d7250ddc6cbd",
   "metadata": {},
   "outputs": [
    {
     "data": {
      "text/plain": [
       "Cuisines\n",
       "Italian, Deli              4.9\n",
       "Hawaiian, Seafood          4.9\n",
       "American, Sandwich, Tea    4.9\n",
       "Continental, Indian        4.9\n",
       "European, Asian, Indian    4.9\n",
       "Name: Aggregate rating, dtype: float64"
      ]
     },
     "execution_count": 19,
     "metadata": {},
     "output_type": "execute_result"
    }
   ],
   "source": [
    "average_rating.head()"
   ]
  },
  {
   "cell_type": "code",
   "execution_count": 20,
   "id": "2e560e66-f302-4134-8968-420e9623008d",
   "metadata": {},
   "outputs": [
    {
     "name": "stderr",
     "output_type": "stream",
     "text": [
      "C:\\Users\\Uer\\AppData\\Local\\Temp\\ipykernel_11384\\2932199183.py:2: FutureWarning: \n",
      "\n",
      "Passing `palette` without assigning `hue` is deprecated and will be removed in v0.14.0. Assign the `x` variable to `hue` and set `legend=False` for the same effect.\n",
      "\n",
      "  sns.barplot(x=top_combinations.index,y=top_combinations.values,palette='coolwarm')\n"
     ]
    },
    {
     "data": {
      "image/png": "[encoded data removed]",
      "text/plain": [
       "<Figure size 640x480 with 1 Axes>"
      ]
     },
     "metadata": {},
     "output_type": "display_data"
    }
   ],
   "source": [
    "top_combinations=average_rating.head(10)\n",
    "sns.barplot(x=top_combinations.index,y=top_combinations.values,palette='coolwarm')\n",
    "plt.xlabel('Average Rating')\n",
    "plt.ylabel('Cuisine Combination')\n",
    "plt.title('Top 10 Highest Rated Cuisine Combination')\n",
    "plt.show()"
   ]
  },
  {
   "cell_type": "code",
   "execution_count": 21,
   "id": "1508334d-bd45-4719-b812-c006b0ac1b51",
   "metadata": {},
   "outputs": [],
   "source": [
    "#online delivery"
   ]
  },
  {
   "cell_type": "code",
   "execution_count": 22,
   "id": "0a24f36e-087a-4128-9f10-df29d7bfb5ea",
   "metadata": {},
   "outputs": [],
   "source": [
    "total_restaurants=len(df)\n",
    "online_delivery=df[\"Has Online delivery\"].value_counts()"
   ]
  },
  {
   "cell_type": "code",
   "execution_count": 23,
   "id": "277eadf7-8024-4c7e-bf4f-edef27176cc2",
   "metadata": {},
   "outputs": [],
   "source": [
    "onlineDelivery_Percentage=(online_delivery/total_restaurants)*100"
   ]
  },
  {
   "cell_type": "code",
   "execution_count": 24,
   "id": "e9ceda8d-c389-44e6-b259-88e99ab1d2b7",
   "metadata": {},
   "outputs": [
    {
     "name": "stdout",
     "output_type": "stream",
     "text": [
      "Has Online delivery\n",
      "No     74.337766\n",
      "Yes    25.662234\n",
      "Name: count, dtype: float64\n"
     ]
    }
   ],
   "source": [
    "print(onlineDelivery_Percentage)"
   ]
  },
  {
   "cell_type": "code",
   "execution_count": 25,
   "id": "f8d3cb52-1888-4410-bf4f-a568671cafc5",
   "metadata": {},
   "outputs": [
    {
     "name": "stdout",
     "output_type": "stream",
     "text": [
      "Has Online delivery\n",
      "No     7100\n",
      "Yes    2451\n",
      "Name: count, dtype: int64\n"
     ]
    }
   ],
   "source": [
    "print(online_delivery)"
   ]
  },
  {
   "cell_type": "code",
   "execution_count": 26,
   "id": "8519db8f-2c43-47b9-abcd-c74c00e9f985",
   "metadata": {},
   "outputs": [],
   "source": [
    "has_onlinedelivery=df[df[\"Has Online delivery\"]==\"Yes\"]"
   ]
  },
  {
   "cell_type": "code",
   "execution_count": 27,
   "id": "a98e130d-c95e-4686-b9fe-fb42372593ad",
   "metadata": {},
   "outputs": [
    {
     "name": "stdout",
     "output_type": "stream",
     "text": [
      "      Restaurant ID                   Restaurant Name  Country Code  \\\n",
      "565         5704255            Famous Dave's Barbecue           214   \n",
      "566         5701978                    Pizza Di Rocco           214   \n",
      "571         5700052  Cho Gao - Crowne Plaza Abu Dhabi           214   \n",
      "572         5702418                            Gazebo           214   \n",
      "573         5700386   Sangeetha Vegetarian Restaurant           214   \n",
      "...             ...                               ...           ...   \n",
      "9166          11371                           Chili's             1   \n",
      "9168       18292672                        Blue Water             1   \n",
      "9170        6507967                   Tales & Spirits             1   \n",
      "9171        6506206           18 Degrees Resto Lounge             1   \n",
      "9194          96814                    Saffron Mantra             1   \n",
      "\n",
      "              City                                            Address  \\\n",
      "565      Abu Dhabi  Near The One, Level 3, Abu Dhabi Mall, Tourist...   \n",
      "566      Abu Dhabi  Near Corner of Salam and Al Falah Street (9th ...   \n",
      "571      Abu Dhabi  Crowne Plaza Abu Dhabi, Sheikh Hamdan Bin Moha...   \n",
      "572      Abu Dhabi  Ground Level, Next to E-Max, Dalma Mall, Mussa...   \n",
      "573      Abu Dhabi  Opposite Cristal Hotel, Behind KM Trading, Ele...   \n",
      "...            ...                                                ...   \n",
      "9166          Pune  UG 49, Phoenix Market City, Nagar Road, Viman ...   \n",
      "9168          Pune  Punawale, Near Basket Bridge,Off Aundh-Ravet B...   \n",
      "9170          Pune  Plot 64, Shivaji Housing Society, Senapati Bap...   \n",
      "9171          Pune  8th & 9th Floor, Spot 18 Mall, Pimple Saudagar...   \n",
      "9194  Secunderabad      The Purple Leaf Hotel, Karkhana, Secunderabad   \n",
      "\n",
      "                                             Locality  \\\n",
      "565   Abu Dhabi Mall, Tourist Club Area  (Al Zahiyah)   \n",
      "566                                        Al Dhafrah   \n",
      "571              Crowne Plaza Abu Dhabi, Al Markaziya   \n",
      "572                      Dalma Mall, Mussafah Sanaiya   \n",
      "573                                     Madinat Zayed   \n",
      "...                                               ...   \n",
      "9166                 Phoenix Market City, Viman Nagar   \n",
      "9168                                            Ravet   \n",
      "9170                              Senapati Bapat Road   \n",
      "9171                    Spot 18 Mall, Pimple Saudagar   \n",
      "9194                                         Karkhana   \n",
      "\n",
      "                                       Locality Verbose  Longitude   Latitude  \\\n",
      "565   Abu Dhabi Mall, Tourist Club Area  (Al Zahiyah...  54.382946  24.495693   \n",
      "566                               Al Dhafrah, Abu Dhabi  54.381931  24.485579   \n",
      "571     Crowne Plaza Abu Dhabi, Al Markaziya, Abu Dhabi  54.365694  24.491235   \n",
      "572             Dalma Mall, Mussafah Sanaiya, Abu Dhabi  54.524122  24.334217   \n",
      "573                            Madinat Zayed, Abu Dhabi  54.363776  24.485253   \n",
      "...                                                 ...        ...        ...   \n",
      "9166             Phoenix Market City, Viman Nagar, Pune  73.916619  18.562450   \n",
      "9168                                        Ravet, Pune  73.751081  18.636215   \n",
      "9170                          Senapati Bapat Road, Pune  73.828972  18.530963   \n",
      "9171                Spot 18 Mall, Pimple Saudagar, Pune  73.785901  18.593481   \n",
      "9194                             Karkhana, Secunderabad  78.500366  17.458998   \n",
      "\n",
      "                                             Cuisines  ...  \\\n",
      "565                                          American  ...   \n",
      "566                                    Italian, Pizza  ...   \n",
      "571   Thai, Japanese, Chinese, Indonesian, Vietnamese  ...   \n",
      "572            Indian, North Indian, Mughlai, Biryani  ...   \n",
      "573                              Indian, South Indian  ...   \n",
      "...                                               ...  ...   \n",
      "9166                       Mexican, American, Tex-Mex  ...   \n",
      "9168               North Indian, Chinese, Continental  ...   \n",
      "9170                       Italian, Continental, Cafe  ...   \n",
      "9171             North Indian, Mediterranean, Chinese  ...   \n",
      "9194                            North Indian, Chinese  ...   \n",
      "\n",
      "                Currency Has Table booking Has Online delivery  \\\n",
      "565   Emirati Diram(AED)                No                 Yes   \n",
      "566   Emirati Diram(AED)               Yes                 Yes   \n",
      "571   Emirati Diram(AED)               Yes                 Yes   \n",
      "572   Emirati Diram(AED)               Yes                 Yes   \n",
      "573   Emirati Diram(AED)                No                 Yes   \n",
      "...                  ...               ...                 ...   \n",
      "9166  Indian Rupees(Rs.)               Yes                 Yes   \n",
      "9168  Indian Rupees(Rs.)               Yes                 Yes   \n",
      "9170  Indian Rupees(Rs.)               Yes                 Yes   \n",
      "9171  Indian Rupees(Rs.)               Yes                 Yes   \n",
      "9194  Indian Rupees(Rs.)               Yes                 Yes   \n",
      "\n",
      "     Is delivering now Switch to order menu Price range  Aggregate rating  \\\n",
      "565                 No                   No           4               4.6   \n",
      "566                 No                   No           3               4.4   \n",
      "571                 No                   No           4               4.4   \n",
      "572                 No                   No           3               4.0   \n",
      "573                 No                   No           2               3.6   \n",
      "...                ...                  ...         ...               ...   \n",
      "9166                No                   No           3               4.5   \n",
      "9168                No                   No           3               4.2   \n",
      "9170                No                   No           2               4.1   \n",
      "9171                No                   No           4               3.6   \n",
      "9194                No                   No           2               4.4   \n",
      "\n",
      "      Rating color Rating text Votes  \n",
      "565     Dark Green   Excellent   376  \n",
      "566          Green   Very Good   471  \n",
      "571          Green   Very Good   246  \n",
      "572          Green   Very Good   355  \n",
      "573         Yellow        Good   268  \n",
      "...            ...         ...   ...  \n",
      "9166    Dark Green   Excellent  1439  \n",
      "9168         Green   Very Good   487  \n",
      "9170         Green   Very Good   997  \n",
      "9171        Yellow        Good  1566  \n",
      "9194         Green   Very Good   494  \n",
      "\n",
      "[2451 rows x 21 columns]\n"
     ]
    }
   ],
   "source": [
    "print(has_onlinedelivery)"
   ]
  },
  {
   "cell_type": "code",
   "execution_count": 28,
   "id": "0f27b03b-c606-423d-a7b7-9164563930d5",
   "metadata": {},
   "outputs": [],
   "source": [
    "no_onlinedelivery=df[df[\"Has Online delivery\"]==\"No\"]"
   ]
  },
  {
   "cell_type": "code",
   "execution_count": 29,
   "id": "13950dda-b37c-45a7-a461-f8d1339c21dc",
   "metadata": {},
   "outputs": [
    {
     "name": "stdout",
     "output_type": "stream",
     "text": [
      "      Restaurant ID           Restaurant Name  Country Code              City  \\\n",
      "0           6317637          Le Petit Souffle           162       Makati City   \n",
      "1           6304287          Izakaya Kikufuji           162       Makati City   \n",
      "2           6300002    Heat - Edsa Shangri-La           162  Mandaluyong City   \n",
      "3           6318506                      Ooma           162  Mandaluyong City   \n",
      "4           6314302               Sambo Kojin           162  Mandaluyong City   \n",
      "...             ...                       ...           ...               ...   \n",
      "9546        5915730               Naml۱ Gurme           208         ��stanbul   \n",
      "9547        5908749              Ceviz A��ac۱           208         ��stanbul   \n",
      "9548        5915807                     Huqqa           208         ��stanbul   \n",
      "9549        5916112               A���k Kahve           208         ��stanbul   \n",
      "9550        5927402  Walter's Coffee Roastery           208         ��stanbul   \n",
      "\n",
      "                                                Address  \\\n",
      "0     Third Floor, Century City Mall, Kalayaan Avenu...   \n",
      "1     Little Tokyo, 2277 Chino Roces Avenue, Legaspi...   \n",
      "2     Edsa Shangri-La, 1 Garden Way, Ortigas, Mandal...   \n",
      "3     Third Floor, Mega Fashion Hall, SM Megamall, O...   \n",
      "4     Third Floor, Mega Atrium, SM Megamall, Ortigas...   \n",
      "...                                                 ...   \n",
      "9546  Kemanke�� Karamustafa Pa��a Mahallesi, R۱ht۱m ...   \n",
      "9547  Ko��uyolu Mahallesi, Muhittin ��st�_nda�� Cadd...   \n",
      "9548  Kuru�_e��me Mahallesi, Muallim Naci Caddesi, N...   \n",
      "9549  Kuru�_e��me Mahallesi, Muallim Naci Caddesi, N...   \n",
      "9550  Cafea��a Mahallesi, Bademalt۱ Sokak, No 21/B, ...   \n",
      "\n",
      "                                        Locality  \\\n",
      "0      Century City Mall, Poblacion, Makati City   \n",
      "1     Little Tokyo, Legaspi Village, Makati City   \n",
      "2     Edsa Shangri-La, Ortigas, Mandaluyong City   \n",
      "3         SM Megamall, Ortigas, Mandaluyong City   \n",
      "4         SM Megamall, Ortigas, Mandaluyong City   \n",
      "...                                          ...   \n",
      "9546                                    Karak�_y   \n",
      "9547                                   Ko��uyolu   \n",
      "9548                                 Kuru�_e��me   \n",
      "9549                                 Kuru�_e��me   \n",
      "9550                                        Moda   \n",
      "\n",
      "                                       Locality Verbose   Longitude  \\\n",
      "0     Century City Mall, Poblacion, Makati City, Mak...  121.027535   \n",
      "1     Little Tokyo, Legaspi Village, Makati City, Ma...  121.014101   \n",
      "2     Edsa Shangri-La, Ortigas, Mandaluyong City, Ma...  121.056831   \n",
      "3     SM Megamall, Ortigas, Mandaluyong City, Mandal...  121.056475   \n",
      "4     SM Megamall, Ortigas, Mandaluyong City, Mandal...  121.057508   \n",
      "...                                                 ...         ...   \n",
      "9546                                Karak�_y, ��stanbul   28.977392   \n",
      "9547                               Ko��uyolu, ��stanbul   29.041297   \n",
      "9548                             Kuru�_e��me, ��stanbul   29.034640   \n",
      "9549                             Kuru�_e��me, ��stanbul   29.036019   \n",
      "9550                                    Moda, ��stanbul   29.026016   \n",
      "\n",
      "       Latitude                          Cuisines  ...          Currency  \\\n",
      "0     14.565443        French, Japanese, Desserts  ...  Botswana Pula(P)   \n",
      "1     14.553708                          Japanese  ...  Botswana Pula(P)   \n",
      "2     14.581404  Seafood, Asian, Filipino, Indian  ...  Botswana Pula(P)   \n",
      "3     14.585318                   Japanese, Sushi  ...  Botswana Pula(P)   \n",
      "4     14.584450                  Japanese, Korean  ...  Botswana Pula(P)   \n",
      "...         ...                               ...  ...               ...   \n",
      "9546  41.022793                           Turkish  ...  Turkish Lira(TL)   \n",
      "9547  41.009847   World Cuisine, Patisserie, Cafe  ...  Turkish Lira(TL)   \n",
      "9548  41.055817            Italian, World Cuisine  ...  Turkish Lira(TL)   \n",
      "9549  41.057979                   Restaurant Cafe  ...  Turkish Lira(TL)   \n",
      "9550  40.984776                              Cafe  ...  Turkish Lira(TL)   \n",
      "\n",
      "     Has Table booking Has Online delivery Is delivering now  \\\n",
      "0                  Yes                  No                No   \n",
      "1                  Yes                  No                No   \n",
      "2                  Yes                  No                No   \n",
      "3                   No                  No                No   \n",
      "4                  Yes                  No                No   \n",
      "...                ...                 ...               ...   \n",
      "9546                No                  No                No   \n",
      "9547                No                  No                No   \n",
      "9548                No                  No                No   \n",
      "9549                No                  No                No   \n",
      "9550                No                  No                No   \n",
      "\n",
      "     Switch to order menu Price range  Aggregate rating  Rating color  \\\n",
      "0                      No           3               4.8    Dark Green   \n",
      "1                      No           3               4.5    Dark Green   \n",
      "2                      No           4               4.4         Green   \n",
      "3                      No           4               4.9    Dark Green   \n",
      "4                      No           4               4.8    Dark Green   \n",
      "...                   ...         ...               ...           ...   \n",
      "9546                   No           3               4.1         Green   \n",
      "9547                   No           3               4.2         Green   \n",
      "9548                   No           4               3.7        Yellow   \n",
      "9549                   No           4               4.0         Green   \n",
      "9550                   No           2               4.0         Green   \n",
      "\n",
      "     Rating text Votes  \n",
      "0      Excellent   314  \n",
      "1      Excellent   591  \n",
      "2      Very Good   270  \n",
      "3      Excellent   365  \n",
      "4      Excellent   229  \n",
      "...          ...   ...  \n",
      "9546   Very Good   788  \n",
      "9547   Very Good  1034  \n",
      "9548        Good   661  \n",
      "9549   Very Good   901  \n",
      "9550   Very Good   591  \n",
      "\n",
      "[7100 rows x 21 columns]\n"
     ]
    }
   ],
   "source": [
    "print(no_onlinedelivery)"
   ]
  },
  {
   "cell_type": "code",
   "execution_count": 30,
   "id": "6a9808f9-b9f6-442b-9936-3b0369800c0b",
   "metadata": {},
   "outputs": [],
   "source": [
    "average_rating=df.groupby(\"Has Online delivery\")[\"Votes\"].mean()"
   ]
  },
  {
   "cell_type": "code",
   "execution_count": 31,
   "id": "0d666583-72db-4080-a9d2-6270e8d09607",
   "metadata": {},
   "outputs": [
    {
     "name": "stdout",
     "output_type": "stream",
     "text": [
      "Has Online delivery\n",
      "No     138.131127\n",
      "Yes    211.307222\n",
      "Name: Votes, dtype: float64\n"
     ]
    }
   ],
   "source": [
    "print(average_rating)"
   ]
  },
  {
   "cell_type": "code",
   "execution_count": 32,
   "id": "bd304f7a-1ee7-4dae-8eab-21a8815ba6af",
   "metadata": {},
   "outputs": [],
   "source": [
    "# Analyze the distribution of aggregate ratings and determine the most common rating range. Calculate the average number of votes received by restaurants."
   ]
  },
  {
   "cell_type": "code",
   "execution_count": 33,
   "id": "07fc59f6-01dc-4cd1-a60f-8772f8dcc27f",
   "metadata": {},
   "outputs": [
    {
     "data": {
      "text/plain": [
       "Text(0.5, 1.0, 'Distribution of Ratings')"
      ]
     },
     "execution_count": 33,
     "metadata": {},
     "output_type": "execute_result"
    },
    {
     "data": {
      "image/png": "[encoded data removed]",
      "text/plain": [
       "<Figure size 640x480 with 1 Axes>"
      ]
     },
     "metadata": {},
     "output_type": "display_data"
    }
   ],
   "source": [
    "sns.histplot(df[\"Aggregate rating\"].dropna(),bins=10,color='blue')\n",
    "plt.xlabel('Aggregate rating')\n",
    "plt.ylabel('Number of Restaurants')\n",
    "plt.title('Distribution of Ratings')"
   ]
  },
  {
   "cell_type": "code",
   "execution_count": 34,
   "id": "ea4d8c1e-ac9d-4a05-aa0c-9990597b2d62",
   "metadata": {},
   "outputs": [],
   "source": [
    "most_common_range=df[\"Aggregate rating\"].value_counts().idxmax()"
   ]
  },
  {
   "cell_type": "code",
   "execution_count": 35,
   "id": "f0aafda3-c1ee-47a5-8b6d-bfd8195a60d2",
   "metadata": {},
   "outputs": [
    {
     "name": "stdout",
     "output_type": "stream",
     "text": [
      "Most Common Rating:0.0\n"
     ]
    }
   ],
   "source": [
    "print(f\"Most Common Rating:{most_common_range}\")"
   ]
  },
  {
   "cell_type": "code",
   "execution_count": 36,
   "id": "7ff59b56-e0fe-44d2-8ee8-fdf8615702f1",
   "metadata": {},
   "outputs": [],
   "source": [
    "average_votes=df[\"Votes\"].mean()"
   ]
  },
  {
   "cell_type": "code",
   "execution_count": 37,
   "id": "a5c28371-1688-4778-b063-797ad283ad2c",
   "metadata": {},
   "outputs": [
    {
     "name": "stdout",
     "output_type": "stream",
     "text": [
      "156.909747670401\n"
     ]
    }
   ],
   "source": [
    "print(average_votes)"
   ]
  },
  {
   "cell_type": "code",
   "execution_count": 39,
   "id": "86d680cf-06c5-4d88-9edc-ff0e161a3df2",
   "metadata": {},
   "outputs": [],
   "source": [
    "import nltk\n",
    "from nltk.corpus import stopwords\n",
    "from wordcloud import WordCloud\n",
    "import re"
   ]
  },
  {
   "cell_type": "code",
   "execution_count": null,
   "id": "ba954237-2c2e-4769-8a70-488b5e80d5c5",
   "metadata": {},
   "outputs": [],
   "source": [
    "df=df[['Rating text','Aggregate rating']].dropna()"
   ]
  },
  {
   "cell_type": "code",
   "execution_count": null,
   "id": "a4da8e00-abad-4da6-9b46-ab0972fec9da",
   "metadata": {},
   "outputs": [],
   "source": [
    "nltk.download('stopwords')\n",
    "stop_words=set(stopwords.words('english'))"
   ]
  },
  {
   "cell_type": "code",
   "execution_count": null,
   "id": "b887b4b7-d368-4e72-bb81-7c1ab4b30a05",
   "metadata": {},
   "outputs": [],
   "source": [
    "def clean_text(text):\n",
    "    text = text.lower()\n",
    "    text = re.sub(r'\\W+', ' ', text)\n",
    "    words = text.split()\n",
    "    words = [word for word in words if word not in stop_words]\n",
    "    return ' '.join(words)"
   ]
  },
  {
   "cell_type": "code",
   "execution_count": null,
   "id": "56712847-1d5c-4fb4-905a-b19851d2db04",
   "metadata": {},
   "outputs": [],
   "source": [
    "df['Cleaned_Rating']=df['Rating text'].apply(clean_text)"
   ]
  },
  {
   "cell_type": "code",
   "execution_count": null,
   "id": "a12d8309-2423-4235-8015-d798c7a97c86",
   "metadata": {},
   "outputs": [],
   "source": [
    "from collections import Counter"
   ]
  },
  {
   "cell_type": "code",
   "execution_count": null,
   "id": "51a3ef2e-1a09-4753-980b-1dda82684337",
   "metadata": {},
   "outputs": [],
   "source": [
    "all_words=' '.join(df['Cleaned_Rating']).split()"
   ]
  },
  {
   "cell_type": "code",
   "execution_count": null,
   "id": "cb30ca57-ea82-441b-be9c-3c93c89799bc",
   "metadata": {},
   "outputs": [],
   "source": [
    "word_frequent= Counter(all_words)"
   ]
  },
  {
   "cell_type": "code",
   "execution_count": null,
   "id": "2135ef91-a7b4-4f6f-a935-275da24daa1f",
   "metadata": {},
   "outputs": [],
   "source": [
    "print(\"Most Common Words in Reviews\")\n",
    "print(word_frequent.most_common(20))"
   ]
  },
  {
   "cell_type": "code",
   "execution_count": null,
   "id": "75577e6b-d195-42f2-9aab-2d806ed56d16",
   "metadata": {},
   "outputs": [],
   "source": [
    "correlation = df[['Review Length','Aggregate rating']].corr().iloc[0,1]"
   ]
  },
  {
   "cell_type": "code",
   "execution_count": null,
   "id": "d3bc25e5-ccda-4726-b302-bd55335e7e8d",
   "metadata": {},
   "outputs": [],
   "source": [
    "print('Correlation between Review Length and Rating:',{correlation})"
   ]
  },
  {
   "cell_type": "code",
   "execution_count": null,
   "id": "92d8858e-209b-495a-ab14-b330b42a27bd",
   "metadata": {},
   "outputs": [],
   "source": [
    "sns.heatmap(correlation.corr(numeric_only=True),annot=True,cmap='coolwarm')\n",
    "plt.title(\"Correlation Matrix of Review and Rating\")\n",
    "plt.xticks(rotation=45)\n",
    "plt.tight_layout()\n",
    "plt.show()"
   ]
  },
  {
   "cell_type": "code",
   "execution_count": 40,
   "id": "7aa36deb-5bb0-4881-b6a5-ec778ebc0072",
   "metadata": {},
   "outputs": [],
   "source": [
    "#Top Cuisines"
   ]
  },
  {
   "cell_type": "code",
   "execution_count": 41,
   "id": "44534d3d-89bb-4f63-a3a1-2186dc1a88fd",
   "metadata": {},
   "outputs": [],
   "source": [
    "df[\"Cuisines\"]=df[\"Cuisines\"].str.split(\",\")"
   ]
  },
  {
   "cell_type": "code",
   "execution_count": 42,
   "id": "62824a0c-9dca-461e-a334-e61ab96af9c0",
   "metadata": {},
   "outputs": [],
   "source": [
    "df=df.explode(\"Cuisines\")"
   ]
  },
  {
   "cell_type": "code",
   "execution_count": 43,
   "id": "6cff68cf-d463-422b-9a54-944f65609bc1",
   "metadata": {},
   "outputs": [
    {
     "name": "stdout",
     "output_type": "stream",
     "text": [
      "Cuisines\n",
      "North Indian    2992\n",
      " Chinese        1880\n",
      " Fast Food      1314\n",
      "Name: count, dtype: int64\n"
     ]
    }
   ],
   "source": [
    "cuisine_count=df[\"Cuisines\"].value_counts()\n",
    "top_three_cuisines=cuisine_count.head(3)\n",
    "print(top_three_cuisines)"
   ]
  },
  {
   "cell_type": "code",
   "execution_count": 44,
   "id": "8c40e99f-706d-4827-ae0f-9edafaa94a2a",
   "metadata": {},
   "outputs": [],
   "source": [
    "total_restaurants=df[\"Restaurant ID\"].nunique()\n",
    "cuisine_counts=df.groupby(\"Cuisines\")[\"Restaurant ID\"].nunique()\n",
    "cuisine_percent=(cuisine_counts/total_restaurants)*100\n",
    "top_three_cuisine=cuisine_percent.sort_values(ascending=False).head(3)"
   ]
  },
  {
   "cell_type": "code",
   "execution_count": 45,
   "id": "102a9f98-015c-4613-a0a7-58b82b9ce9ab",
   "metadata": {},
   "outputs": [
    {
     "name": "stdout",
     "output_type": "stream",
     "text": [
      "9551\n"
     ]
    }
   ],
   "source": [
    "print(total_restaurants)"
   ]
  },
  {
   "cell_type": "code",
   "execution_count": 46,
   "id": "8828ab29-d765-4e25-bd28-e614f000cd13",
   "metadata": {},
   "outputs": [
    {
     "name": "stdout",
     "output_type": "stream",
     "text": [
      "Cuisines\n",
      " Afghani           7\n",
      " African           6\n",
      " American        112\n",
      " Andhra            7\n",
      " Arabian          23\n",
      "                ... \n",
      "Turkish            7\n",
      "Turkish Pizza      1\n",
      "Vietnamese         3\n",
      "Western            2\n",
      "World Cuisine      3\n",
      "Name: Restaurant ID, Length: 249, dtype: int64\n"
     ]
    }
   ],
   "source": [
    "print(cuisine_counts)"
   ]
  },
  {
   "cell_type": "code",
   "execution_count": 47,
   "id": "976aca9f-c18c-4e16-a767-fb3d169f43cc",
   "metadata": {},
   "outputs": [
    {
     "name": "stdout",
     "output_type": "stream",
     "text": [
      "Cuisines\n",
      "North Indian      2992\n",
      " Chinese          1880\n",
      " Fast Food        1314\n",
      " North Indian      968\n",
      "Chinese            855\n",
      "                  ... \n",
      " Ramen               1\n",
      "Indonesian           1\n",
      " Bubble Tea          1\n",
      "Kiwi                 1\n",
      " World Cuisine       1\n",
      "Name: count, Length: 249, dtype: int64\n"
     ]
    }
   ],
   "source": [
    "print(cuisine_count)"
   ]
  },
  {
   "cell_type": "code",
   "execution_count": 48,
   "id": "dbdbd3d2-191f-4c3c-b58a-ba15437e307b",
   "metadata": {},
   "outputs": [
    {
     "name": "stdout",
     "output_type": "stream",
     "text": [
      "Cuisines\n",
      " Afghani         0.073291\n",
      " African         0.062821\n",
      " American        1.172652\n",
      " Andhra          0.073291\n",
      " Arabian         0.240812\n",
      "                   ...   \n",
      "Turkish          0.073291\n",
      "Turkish Pizza    0.010470\n",
      "Vietnamese       0.031410\n",
      "Western          0.020940\n",
      "World Cuisine    0.031410\n",
      "Name: Restaurant ID, Length: 249, dtype: float64\n"
     ]
    }
   ],
   "source": [
    "print(cuisine_percent)"
   ]
  },
  {
   "cell_type": "code",
   "execution_count": 49,
   "id": "1b11abe3-c279-4587-802a-8508ab31a79f",
   "metadata": {},
   "outputs": [
    {
     "name": "stdout",
     "output_type": "stream",
     "text": [
      "Cuisines\n",
      "North Indian    31.326563\n",
      " Chinese        19.662863\n",
      " Fast Food      13.757722\n",
      "Name: Restaurant ID, dtype: float64\n"
     ]
    }
   ],
   "source": [
    "print(top_three_cuisine)"
   ]
  },
  {
   "cell_type": "code",
   "execution_count": 50,
   "id": "ed392fa6-051b-47e8-b189-abf12b6ee1e9",
   "metadata": {},
   "outputs": [
    {
     "name": "stderr",
     "output_type": "stream",
     "text": [
      "C:\\Users\\Uer\\AppData\\Local\\Temp\\ipykernel_11384\\3564728605.py:2: FutureWarning: \n",
      "\n",
      "Passing `palette` without assigning `hue` is deprecated and will be removed in v0.14.0. Assign the `x` variable to `hue` and set `legend=False` for the same effect.\n",
      "\n",
      "  sns.barplot(x=top_three_cuisine.index,y=top_three_cuisine.values,palette='coolwarm')\n"
     ]
    },
    {
     "data": {
      "text/plain": [
       "<Axes: xlabel='Cuisines'>"
      ]
     },
     "execution_count": 50,
     "metadata": {},
     "output_type": "execute_result"
    },
    {
     "data": {
      "image/png": "[encoded data removed]",
      "text/plain": [
       "<Figure size 800x500 with 1 Axes>"
      ]
     },
     "metadata": {},
     "output_type": "display_data"
    }
   ],
   "source": [
    "plt.figure(figsize=(8,5))\n",
    "sns.barplot(x=top_three_cuisine.index,y=top_three_cuisine.values,palette='coolwarm')"
   ]
  },
  {
   "cell_type": "code",
   "execution_count": 51,
   "id": "cb099f0e-9710-4543-985e-1d6398ed79e0",
   "metadata": {},
   "outputs": [],
   "source": [
    "#vote analysis"
   ]
  },
  {
   "cell_type": "code",
   "execution_count": 52,
   "id": "7a44e91a-34d3-4613-96de-29c24c52cabe",
   "metadata": {},
   "outputs": [],
   "source": [
    "df['Votes']=pd.to_numeric(df['Votes'],errors=\"coerce\")\n",
    "df['Aggregate rating']=pd.to_numeric(df['Aggregate rating'],errors=\"coerce\")"
   ]
  },
  {
   "cell_type": "code",
   "execution_count": 53,
   "id": "bd37155e-86a0-4e20-bd87-5ac2631bcb3d",
   "metadata": {},
   "outputs": [
    {
     "name": "stdout",
     "output_type": "stream",
     "text": [
      "\n",
      "Restaurant with Highest Votes:\n",
      "      Restaurant ID Restaurant Name  Country Code       City  \\\n",
      "728          51705            Toit             1  Bangalore   \n",
      "728          51705            Toit             1  Bangalore   \n",
      "728          51705            Toit             1  Bangalore   \n",
      "\n",
      "                                               Address     Locality  \\\n",
      "728  298, Namma Metro Pillar 62, 100 Feet Road, Ind...  Indiranagar   \n",
      "728  298, Namma Metro Pillar 62, 100 Feet Road, Ind...  Indiranagar   \n",
      "728  298, Namma Metro Pillar 62, 100 Feet Road, Ind...  Indiranagar   \n",
      "\n",
      "           Locality Verbose  Longitude   Latitude   Cuisines  ...  \\\n",
      "728  Indiranagar, Bangalore  77.640709  12.979166    Italian  ...   \n",
      "728  Indiranagar, Bangalore  77.640709  12.979166   American  ...   \n",
      "728  Indiranagar, Bangalore  77.640709  12.979166      Pizza  ...   \n",
      "\n",
      "               Currency Has Table booking Has Online delivery  \\\n",
      "728  Indian Rupees(Rs.)                No                  No   \n",
      "728  Indian Rupees(Rs.)                No                  No   \n",
      "728  Indian Rupees(Rs.)                No                  No   \n",
      "\n",
      "    Is delivering now Switch to order menu Price range  Aggregate rating  \\\n",
      "728                No                   No           4               4.8   \n",
      "728                No                   No           4               4.8   \n",
      "728                No                   No           4               4.8   \n",
      "\n",
      "     Rating color Rating text  Votes  \n",
      "728    Dark Green   Excellent  10934  \n",
      "728    Dark Green   Excellent  10934  \n",
      "728    Dark Green   Excellent  10934  \n",
      "\n",
      "[3 rows x 21 columns]\n"
     ]
    }
   ],
   "source": [
    "highest_votes=df.loc[df['Votes'].idxmax()]\n",
    "print(\"\\nRestaurant with Highest Votes:\\n\",highest_votes)"
   ]
  },
  {
   "cell_type": "code",
   "execution_count": 54,
   "id": "72443fe9-8ef3-4e60-b98d-bd89f5c8fff3",
   "metadata": {},
   "outputs": [],
   "source": [
    "df_non_zero_votes=df[df['Votes']>0]"
   ]
  },
  {
   "cell_type": "code",
   "execution_count": 55,
   "id": "26b47e92-fc34-4875-bf45-059b8255d4b1",
   "metadata": {},
   "outputs": [
    {
     "name": "stdout",
     "output_type": "stream",
     "text": [
      "\n",
      "Restaurant with Lowest Votes:\n",
      "     Restaurant ID        Restaurant Name  Country Code            City  \\\n",
      "58        7305048  Quiosque Chopp Brahma            30  Rio de Janeiro   \n",
      "58        7305048  Quiosque Chopp Brahma            30  Rio de Janeiro   \n",
      "\n",
      "                                              Address   Locality  \\\n",
      "58  Madureira Shopping - Loja 289/290, Piso 2, Est...  Madureira   \n",
      "58  Madureira Shopping - Loja 289/290, Piso 2, Est...  Madureira   \n",
      "\n",
      "             Locality Verbose  Longitude   Latitude    Cuisines  ...  \\\n",
      "58  Madureira, Rio de Janeiro -43.341164 -22.870413    Bar Food  ...   \n",
      "58  Madureira, Rio de Janeiro -43.341164 -22.870413   Brazilian  ...   \n",
      "\n",
      "              Currency Has Table booking Has Online delivery  \\\n",
      "58  Brazilian Real(R$)                No                  No   \n",
      "58  Brazilian Real(R$)                No                  No   \n",
      "\n",
      "   Is delivering now Switch to order menu Price range  Aggregate rating  \\\n",
      "58                No                   No           3               0.0   \n",
      "58                No                   No           3               0.0   \n",
      "\n",
      "    Rating color Rating text Votes  \n",
      "58         White   Not rated     1  \n",
      "58         White   Not rated     1  \n",
      "\n",
      "[2 rows x 21 columns]\n"
     ]
    }
   ],
   "source": [
    "if not df_non_zero_votes.empty:\n",
    "    lowest_votes=df_non_zero_votes.loc[df_non_zero_votes['Votes'].idxmin()]\n",
    "    print(\"\\nRestaurant with Lowest Votes:\\n\",lowest_votes)\n",
    "else:\n",
    "    print(\"No Restaurants with non zero votes find\")"
   ]
  },
  {
   "cell_type": "code",
   "execution_count": 56,
   "id": "0b739ec0-a214-435c-b735-48adf66e5546",
   "metadata": {},
   "outputs": [
    {
     "data": {
      "text/plain": [
       "Text(0.5, 1.0, 'Votes vs Rating')"
      ]
     },
     "execution_count": 56,
     "metadata": {},
     "output_type": "execute_result"
    },
    {
     "data": {
      "image/png": "[encoded data removed]",
      "text/plain": [
       "<Figure size 1000x500 with 1 Axes>"
      ]
     },
     "metadata": {},
     "output_type": "display_data"
    }
   ],
   "source": [
    "plt.figure(figsize=(10,5))\n",
    "sns.scatterplot(x=df[\"Aggregate rating\"],y=df[\"Votes\"])\n",
    "plt.xlabel('Restaurant Rating')\n",
    "plt.ylabel('Votes')\n",
    "plt.title(\"Votes vs Rating\")"
   ]
  },
  {
   "cell_type": "code",
   "execution_count": 57,
   "id": "2a2bdc57-ff58-4144-84ef-d8c0730eee81",
   "metadata": {},
   "outputs": [
    {
     "data": {
      "text/plain": [
       "Text(0.5, 1.0, 'Correlation Between Votes and Ratings')"
      ]
     },
     "execution_count": 57,
     "metadata": {},
     "output_type": "execute_result"
    },
    {
     "data": {
      "image/png": "[encoded data removed]",
      "text/plain": [
       "<Figure size 600x400 with 2 Axes>"
      ]
     },
     "metadata": {},
     "output_type": "display_data"
    }
   ],
   "source": [
    "corre_matrix=df[[\"Votes\",\"Aggregate rating\"]].corr()\n",
    "plt.figure(figsize=(6,4))\n",
    "sns.heatmap(corre_matrix,annot=True,cmap='coolwarm',fmt=\".2f\")\n",
    "plt.title(\"Correlation Between Votes and Ratings\")"
   ]
  },
  {
   "cell_type": "code",
   "execution_count": 58,
   "id": "7b9946e3-9bb6-415d-a4bb-397ebd037a09",
   "metadata": {},
   "outputs": [],
   "source": [
    "from scipy.stats import pearsonr"
   ]
  },
  {
   "cell_type": "code",
   "execution_count": 59,
   "id": "d5c5bf43-d7df-4d07-bfe2-633b7ce9bc98",
   "metadata": {},
   "outputs": [
    {
     "name": "stdout",
     "output_type": "stream",
     "text": [
      "\n",
      "Pearson Correlation Coefficient:0.31303205298193126\n",
      "p_Value:0.0\n"
     ]
    }
   ],
   "source": [
    "corr,p_value=pearsonr(df[\"Votes\"].dropna(),df[\"Aggregate rating\"].dropna())\n",
    "alpha=0.05\n",
    "print(f\"\\nPearson Correlation Coefficient:{corr}\")\n",
    "print(f\"p_Value:{p_value}\")"
   ]
  },
  {
   "cell_type": "code",
   "execution_count": 60,
   "id": "0b5047da-84a1-43ce-9b6d-525794e84450",
   "metadata": {},
   "outputs": [
    {
     "name": "stdout",
     "output_type": "stream",
     "text": [
      "Statistically Significant Correlation Found\n"
     ]
    }
   ],
   "source": [
    "if p_value<alpha:\n",
    "    print(\"Statistically Significant Correlation Found\")\n",
    "else:\n",
    "    print(\"No Correlat\")"
   ]
  },
  {
   "cell_type": "code",
   "execution_count": 61,
   "id": "eab87802-b9e5-4fc0-8a5b-bd993656cc31",
   "metadata": {},
   "outputs": [],
   "source": [
    "#Geographical Analysis"
   ]
  },
  {
   "cell_type": "code",
   "execution_count": 62,
   "id": "ec9bf78f-6cd1-4afc-8bc6-9747c462cf88",
   "metadata": {},
   "outputs": [
    {
     "data": {
      "text/plain": [
       "Text(0.5, 1.0, 'Restaurant Locations')"
      ]
     },
     "execution_count": 62,
     "metadata": {},
     "output_type": "execute_result"
    },
    {
     "data": {
      "image/png": "[encoded data removed]",
      "text/plain": [
       "<Figure size 1000x600 with 1 Axes>"
      ]
     },
     "metadata": {},
     "output_type": "display_data"
    }
   ],
   "source": [
    "plt.figure(figsize=(10,6))\n",
    "sns.scatterplot(x=df['Longitude'],y=df['Latitude'],alpha=0.5,edgecolor='b')\n",
    "plt.xlabel(\"Longitude\")\n",
    "plt.ylabel(\"Latitude\")\n",
    "plt.title(\"Restaurant Locations\")"
   ]
  },
  {
   "cell_type": "code",
   "execution_count": 63,
   "id": "a92142cc-231f-42f8-9e56-cd3a3dbac322",
   "metadata": {},
   "outputs": [
    {
     "data": {
      "text/plain": [
       "Text(0.5, 1.0, 'Restaurant Density')"
      ]
     },
     "execution_count": 63,
     "metadata": {},
     "output_type": "execute_result"
    },
    {
     "data": {
      "image/png": "[encoded data removed]",
      "text/plain": [
       "<Figure size 1000x600 with 1 Axes>"
      ]
     },
     "metadata": {},
     "output_type": "display_data"
    }
   ],
   "source": [
    "plt.figure(figsize=(10,6))\n",
    "sns.kdeplot(x=df['Longitude'],y=df['Latitude'],cmap=\"Greens\",fill=True,levels=50)\n",
    "plt.xlabel(\"Longitude\")\n",
    "plt.ylabel(\"Latitude\")\n",
    "plt.title(\"Restaurant Density\")"
   ]
  },
  {
   "cell_type": "code",
   "execution_count": null,
   "id": "8cb31d0f-1f33-49ce-8aca-1fd374089dcd",
   "metadata": {},
   "outputs": [],
   "source": []
  }
 ],
 "metadata": {
  "kernelspec": {
   "display_name": "Python 3 (ipykernel)",
   "language": "python",
   "name": "python3"
  },
  "language_info": {
   "codemirror_mode": {
    "name": "ipython",
    "version": 3
   },
   "file_extension": ".py",
   "mimetype": "text/x-python",
   "name": "python",
   "nbconvert_exporter": "python",
   "pygments_lexer": "ipython3",
   "version": "3.12.7"
  }
 },
 "nbformat": 4,
 "nbformat_minor": 5
}
